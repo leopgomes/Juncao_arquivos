{
 "cells": [
  {
   "cell_type": "markdown",
   "metadata": {
    "id": "aX6rkH5swNXO"
   },
   "source": [
    "## Importação de bibliotecas necessárias"
   ]
  },
  {
   "cell_type": "code",
   "execution_count": 1,
   "metadata": {
    "executionInfo": {
     "elapsed": 290,
     "status": "ok",
     "timestamp": 1718300667263,
     "user": {
      "displayName": "Leandro Gomes",
      "userId": "02869815616689188456"
     },
     "user_tz": 180
    },
    "id": "RmPWcMqlNDPj"
   },
   "outputs": [],
   "source": [
    "# importação de bibliotecas\n",
    "import os\n",
    "import zipfile\n",
    "import gzip\n",
    "import shutil"
   ]
  },
  {
   "cell_type": "markdown",
   "metadata": {
    "id": "r-SU31XQusdc"
   },
   "source": [
    "## Cria diretórios"
   ]
  },
  {
   "cell_type": "code",
   "execution_count": 2,
   "metadata": {
    "executionInfo": {
     "elapsed": 349,
     "status": "ok",
     "timestamp": 1718300671147,
     "user": {
      "displayName": "Leandro Gomes",
      "userId": "02869815616689188456"
     },
     "user_tz": 180
    },
    "id": "nIdUVkEgstPP"
   },
   "outputs": [],
   "source": [
    "dir = './compactados'\n",
    "os.makedirs(dir)\n",
    "\n",
    "dir = './descompactados'\n",
    "os.makedirs(dir)\n",
    "\n",
    "dir = './subscriptions'\n",
    "os.makedirs(dir)\n",
    "\n",
    "dir = './gz_descompactados'\n",
    "os.makedirs(dir)\n"
   ]
  },
  {
   "cell_type": "code",
   "execution_count": 3,
   "metadata": {
    "executionInfo": {
     "elapsed": 320,
     "status": "ok",
     "timestamp": 1718300676918,
     "user": {
      "displayName": "Leandro Gomes",
      "userId": "02869815616689188456"
     },
     "user_tz": 180
    },
    "id": "SgIHbyjoYGGj"
   },
   "outputs": [],
   "source": [
    "# Caminho para o arquivo zip que você deseja descompactar\n",
    "caminho_arquivo_zip = './apple.zip'\n",
    "\n",
    "# Abra o arquivo zip\n",
    "with zipfile.ZipFile(caminho_arquivo_zip, 'r') as zip_ref:\n",
    "    # Extraia todo o conteúdo para o diretório atual\n",
    "    zip_ref.extractall('./compactados')"
   ]
  },
  {
   "cell_type": "markdown",
   "metadata": {
    "id": "nGUH0vgXuXe3"
   },
   "source": [
    "## Descompacta os arquivos"
   ]
  },
  {
   "cell_type": "code",
   "execution_count": 4,
   "metadata": {
    "colab": {
     "base_uri": "https://localhost:8080/"
    },
    "executionInfo": {
     "elapsed": 297,
     "status": "ok",
     "timestamp": 1718300694779,
     "user": {
      "displayName": "Leandro Gomes",
      "userId": "02869815616689188456"
     },
     "user_tz": 180
    },
    "id": "dr8u5SqsNrUP",
    "outputId": "4027c22b-5c7f-4594-9241-4d572827e312"
   },
   "outputs": [
    {
     "name": "stdout",
     "output_type": "stream",
     "text": [
      "Extração concluída.\n"
     ]
    }
   ],
   "source": [
    "# Pasta contendo os arquivos zip\n",
    "pasta_zip = './compactados'\n",
    "\n",
    "# Pasta de destino para a extração dos arquivos\n",
    "pasta_destino = './descompactados'\n",
    "\n",
    "# Percorrer todos os arquivos na pasta_zip\n",
    "for arquivo_zip in os.listdir(pasta_zip):\n",
    "    if arquivo_zip.endswith('.zip'):\n",
    "        # Caminho completo para o arquivo zip\n",
    "        caminho_arquivo_zip = os.path.join(pasta_zip, arquivo_zip)\n",
    "\n",
    "        # Nome da pasta de destino para a extração do arquivo zip\n",
    "        nome_pasta_destino = os.path.splitext(arquivo_zip)[0]\n",
    "\n",
    "        # Caminho completo para a pasta de destino\n",
    "        caminho_pasta_destino = os.path.join(pasta_destino, nome_pasta_destino)\n",
    "\n",
    "        # Criar a pasta de destino, se não existir\n",
    "        os.makedirs(caminho_pasta_destino, exist_ok=True)\n",
    "\n",
    "        # Abrir o arquivo zip\n",
    "        with zipfile.ZipFile(caminho_arquivo_zip, 'r') as zip_ref:\n",
    "            # Extrair todos os arquivos para a pasta de destino\n",
    "            zip_ref.extractall(caminho_pasta_destino)\n",
    "\n",
    "print('Extração concluída.')"
   ]
  },
  {
   "cell_type": "markdown",
   "metadata": {
    "id": "R9_QSo0Tu2IY"
   },
   "source": [
    "## Copia os arquivos Subscriber para uma pasta específica"
   ]
  },
  {
   "cell_type": "code",
   "execution_count": 5,
   "metadata": {
    "executionInfo": {
     "elapsed": 470,
     "status": "ok",
     "timestamp": 1718300711682,
     "user": {
      "displayName": "Leandro Gomes",
      "userId": "02869815616689188456"
     },
     "user_tz": 180
    },
    "id": "AQmBu17_ucwy"
   },
   "outputs": [],
   "source": [
    "source_directory = './descompactados'\n",
    "target_directory = './subscriptions'\n",
    "nome_inicial = 'Subscription_Event_'\n",
    "\n",
    "for root, dirs, files in os.walk(source_directory):\n",
    "    for file in files:\n",
    "        if file.startswith(nome_inicial):\n",
    "            source_path = os.path.join(root, file)\n",
    "            shutil.copy(source_path, target_directory)"
   ]
  },
  {
   "cell_type": "markdown",
   "metadata": {
    "id": "Bn-XdmVpvh7w"
   },
   "source": [
    "## Descompacta os arquivos .gz"
   ]
  },
  {
   "cell_type": "code",
   "execution_count": 6,
   "metadata": {
    "colab": {
     "base_uri": "https://localhost:8080/"
    },
    "executionInfo": {
     "elapsed": 311,
     "status": "ok",
     "timestamp": 1718300722142,
     "user": {
      "displayName": "Leandro Gomes",
      "userId": "02869815616689188456"
     },
     "user_tz": 180
    },
    "id": "j6tLu1W_X7On",
    "outputId": "2141613a-54be-411c-8e85-33dfa6caa644"
   },
   "outputs": [
    {
     "name": "stdout",
     "output_type": "stream",
     "text": [
      "Descompactação concluída.\n"
     ]
    }
   ],
   "source": [
    "# Pasta contendo os arquivos .gz\n",
    "pasta_gz = './subscriptions'\n",
    "\n",
    "# Pasta de destino para a descompactação\n",
    "pasta_destino = './gz_descompactados'\n",
    "\n",
    "# Percorrer todos os arquivos na pasta_gz\n",
    "for arquivo_gz in os.listdir(pasta_gz):\n",
    "    if arquivo_gz.endswith('.gz'):\n",
    "        # Caminho completo para o arquivo .gz\n",
    "        caminho_arquivo_gz = os.path.join(pasta_gz, arquivo_gz)\n",
    "\n",
    "        # Nome do arquivo de saída descompactado\n",
    "        nome_arquivo_saida = os.path.splitext(arquivo_gz)[0]\n",
    "\n",
    "        # Caminho completo para o arquivo de saída\n",
    "        caminho_arquivo_saida = os.path.join(pasta_destino, nome_arquivo_saida)\n",
    "\n",
    "        # Descompactar o arquivo .gz\n",
    "        with gzip.open(caminho_arquivo_gz, 'rb') as arquivo_gz:\n",
    "            with open(caminho_arquivo_saida, 'wb') as arquivo_saida:\n",
    "                shutil.copyfileobj(arquivo_gz, arquivo_saida)\n",
    "\n",
    "print('Descompactação concluída.')"
   ]
  },
  {
   "cell_type": "markdown",
   "metadata": {
    "id": "GtYS_1XCv-eJ"
   },
   "source": [
    "## União de todos os arquivos txt em apenas um arquivo"
   ]
  },
  {
   "cell_type": "code",
   "execution_count": 9,
   "metadata": {
    "colab": {
     "base_uri": "https://localhost:8080/"
    },
    "executionInfo": {
     "elapsed": 326,
     "status": "ok",
     "timestamp": 1718301181662,
     "user": {
      "displayName": "Leandro Gomes",
      "userId": "02869815616689188456"
     },
     "user_tz": 180
    },
    "id": "qtkXG8x2YhpK",
    "outputId": "876791ed-17cb-4110-c646-6ef2018cfd4f"
   },
   "outputs": [
    {
     "name": "stdout",
     "output_type": "stream",
     "text": [
      "União concluída.\n"
     ]
    }
   ],
   "source": [
    "# Diretório contendo os arquivos a serem unidos\n",
    "diretorio = './gz_descompactados'\n",
    "\n",
    "# Nome do arquivo de saída\n",
    "arquivo_saida = 'apple_subscriptions.txt'\n",
    "\n",
    "# Flag para rastrear se o cabeçalho já foi escrito\n",
    "cabecalho_escrito = False\n",
    "\n",
    "# Abrir o arquivo de saída em modo de gravação\n",
    "with open(arquivo_saida, 'w') as arquivo_final:\n",
    "    # Percorrer todos os arquivos no diretório\n",
    "    for nome_arquivo in os.listdir(diretorio):\n",
    "        caminho_arquivo = os.path.join(diretorio, nome_arquivo)\n",
    "        if os.path.isfile(caminho_arquivo):  # Verificar se é um arquivo\n",
    "            # Abrir cada arquivo em modo de leitura\n",
    "            with open(caminho_arquivo, 'r') as arquivo_atual:\n",
    "                # Ler todas as linhas do arquivo atual\n",
    "                linhas = arquivo_atual.readlines()\n",
    "                # Verificar se há mais de uma linha\n",
    "                if len(linhas) > 0:\n",
    "                    if not cabecalho_escrito:\n",
    "                        # Escrever o cabeçalho do primeiro arquivo\n",
    "                        arquivo_final.writelines(linhas)\n",
    "                        cabecalho_escrito = True\n",
    "                    else:\n",
    "                        # Ignorar a primeira linha (cabeçalho) e escrever o resto\n",
    "                        arquivo_final.writelines(linhas[1:])\n",
    "\n",
    "print('União concluída.')\n"
   ]
  },
  {
   "cell_type": "markdown",
   "metadata": {
    "id": "m6PLPyt-dpK0"
   },
   "source": [
    "## Download do arquivo"
   ]
  },
  {
   "cell_type": "code",
   "execution_count": null,
   "metadata": {
    "colab": {
     "base_uri": "https://localhost:8080/",
     "height": 17
    },
    "executionInfo": {
     "elapsed": 312,
     "status": "ok",
     "timestamp": 1718301185226,
     "user": {
      "displayName": "Leandro Gomes",
      "userId": "02869815616689188456"
     },
     "user_tz": 180
    },
    "id": "otAHsqmZ3A8l",
    "outputId": "f93623f7-29db-4676-b972-946b3c4117aa"
   },
   "outputs": [],
   "source": [
    "from google.colab import files\n",
    "files.download('apple_subscriptions.txt')"
   ]
  },
  {
   "cell_type": "code",
   "execution_count": null,
   "metadata": {},
   "outputs": [],
   "source": []
  }
 ],
 "metadata": {
  "colab": {
   "provenance": [
    {
     "file_id": "1_mRAE_iwXrPuMJSfH6Em8Rap_fzGcSy2",
     "timestamp": 1709563998570
    }
   ]
  },
  "kernelspec": {
   "display_name": "Python 3 (ipykernel)",
   "language": "python",
   "name": "python3"
  },
  "language_info": {
   "codemirror_mode": {
    "name": "ipython",
    "version": 3
   },
   "file_extension": ".py",
   "mimetype": "text/x-python",
   "name": "python",
   "nbconvert_exporter": "python",
   "pygments_lexer": "ipython3",
   "version": "3.10.12"
  }
 },
 "nbformat": 4,
 "nbformat_minor": 4
}
